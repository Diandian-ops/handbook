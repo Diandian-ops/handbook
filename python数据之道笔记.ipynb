{
 "cells": [
  {
   "cell_type": "markdown",
   "metadata": {},
   "source": [
    "# 说明\n",
    "\n",
    " 该笔记仅记录对我有作用的部分。我不是知识的创造者，而是知识的搬运工，《Python知识手册》来自公众号【Python数据之道】。"
   ]
  },
  {
   "cell_type": "markdown",
   "metadata": {},
   "source": [
    "# Python数据之道阅读笔记\n",
    "\n",
    "Python知识手册主要包含一下几个方面的内容：\n",
    "\n",
    "•\tPython 基础知识\n",
    "\n",
    "•\tJupyter Notebook\n",
    "\n",
    "•\tNumpy\n",
    "\n",
    "•\tPandas\n",
    "\n",
    "•\tMatplotlib\n",
    "\n",
    "•\tSeaborn\n",
    "\n",
    "•\tPlotly\n",
    "\n",
    "•\tBokeh\n",
    "\n",
    "•\tPython 财经实践\n",
    "\n",
    "•   若干个项目实战案例"
   ]
  },
  {
   "cell_type": "markdown",
   "metadata": {},
   "source": [
    "# 一、Python基础"
   ]
  },
  {
   "cell_type": "markdown",
   "metadata": {},
   "source": [
    "## 1.1 VS code 使用"
   ]
  },
  {
   "cell_type": "markdown",
   "metadata": {},
   "source": [
    "### 1.1.1 基本配置\n",
    "插件：**Pylance**，**Jupyter**、**indent-rainbow**、**Bracket Pair Colorizer**、**Better Comments**\n",
    "\n",
    "缩放：**ctrl** + **(+** 或者 **-)** **可进行页面缩放，利于编辑"
   ]
  },
  {
   "cell_type": "markdown",
   "metadata": {},
   "source": [
    "### 1.1.2 使用Markdown及插入图片\n",
    "在VSCode扩展商店中安装如下的两个插件: **markdownlint**（语法提示）、**Markdown Preview Enhanced**（预览显示）<br>\n",
    "\n",
    "* 插入图片\n",
    "\\<img src=\"./assets/python插件.png\" style=\"zoom:45%\" />\n",
    "* 修改width：\n",
    "\\<img src=\"/home/aaon/文件/assets/1543803099995.png\" width=\"200px\" /> <br>\n",
    "* 或者修改height：\n",
    "\\<img src=\"/home/aaon/文件/assets/1543803099995.png\" style=\"height:200px\" /><br>\n",
    "* 也可以直接按比例縮放：\n",
    "\\<img src=\"/home/aaon/文件/assets/1543803099995.png\" style=\"zoom:70%\" />"
   ]
  },
  {
   "cell_type": "markdown",
   "metadata": {},
   "source": [
    "## 1.2 Python 数据类型"
   ]
  },
  {
   "cell_type": "markdown",
   "metadata": {},
   "source": [
    "### 1.2.1 字符串\n",
    "在Python中处理文本数据是使用 str 对象，也称为字符串对象。字符串是由Unicode码为构成的而不可变序列。"
   ]
  },
  {
   "cell_type": "markdown",
   "metadata": {},
   "source": [
    "#### 1.2.1.1 创建字符串"
   ]
  },
  {
   "cell_type": "code",
   "execution_count": null,
   "metadata": {},
   "outputs": [],
   "source": [
    "# 单引号\n",
    "s1 = 'string1'\n",
    "# 双重引号\n",
    "s2 = \"string2\"\n",
    "# 三引号\n",
    "s3 = \"\"\"三重引号的字符串，\n",
    "        可以跨越多行\"\"\"\n",
    "\n",
    "# print函数sep是用来间隔多个对象，默认是空格。可更改为换行符\"\\n\"\n",
    "print(s1, s2, s3, sep=\"\\n\")\n"
   ]
  },
  {
   "cell_type": "markdown",
   "metadata": {},
   "source": [
    "#### 1.2.1.2 访问字符串中的值\n",
    "字符串对象（string）支持切片的方式来访问字符串中的值。r打印字符串中的“/”。"
   ]
  },
  {
   "cell_type": "code",
   "execution_count": null,
   "metadata": {},
   "outputs": [],
   "source": [
    "print(s1[1])\n",
    "\n",
    "print(s3[10:])\n",
    "\n",
    "print(r'./folder/file.txt')\n"
   ]
  },
  {
   "cell_type": "markdown",
   "metadata": {},
   "source": [
    "#### 1.2.1.3 字符串格式化\n",
    "字符串格式化输出，包括format，%， f-string。数字格式化，可参考下表。\n",
    "\n",
    "<img src=\"./assets/数字格式化.png\" style=\"zoom:150%\" />"
   ]
  },
  {
   "cell_type": "code",
   "execution_count": null,
   "metadata": {},
   "outputs": [],
   "source": [
    "print(s1, s2)\n",
    "# format\n",
    "print('格式化输出两个变量，包括 {0} 和 {1}。'.format(s1, s2))\n",
    "# %\n",
    "print('格式化输出两个变量，包括 %s 和 %s。' % (s1, s2))\n",
    "# f-string\n",
    "print(f'格式化输出两个变量，包括 {s1} 和 {s2}。')"
   ]
  }
 ],
 "metadata": {
  "interpreter": {
   "hash": "8a746e53187f4c501bf8ff619f666eaf6cbd075777313aa2d30194d59d38fc8a"
  },
  "kernelspec": {
   "display_name": "Python 3.9.7 ('1.Python')",
   "language": "python",
   "name": "python3"
  },
  "language_info": {
   "codemirror_mode": {
    "name": "ipython",
    "version": 3
   },
   "file_extension": ".py",
   "mimetype": "text/x-python",
   "name": "python",
   "nbconvert_exporter": "python",
   "pygments_lexer": "ipython3",
   "version": "3.8.8"
  },
  "orig_nbformat": 4
 },
 "nbformat": 4,
 "nbformat_minor": 2
}

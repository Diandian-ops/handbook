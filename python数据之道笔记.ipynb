{
 "cells": [
  {
   "cell_type": "markdown",
   "metadata": {},
   "source": [
    "# 说明\n",
    "\n",
    " 该笔记仅记录对我个人有用的部分。我不是知识的创造者，只是知识的搬运工，请参考《Python知识手册》，该手册来自微信公众号【Python数据之道】。"
   ]
  },
  {
   "cell_type": "markdown",
   "metadata": {},
   "source": [
    "# Python数据之道阅读笔记\n",
    "\n",
    "Python知识手册主要包含一下几个方面的内容：\n",
    "\n",
    "•\tPython 基础知识\n",
    "\n",
    "•\tJupyter Notebook\n",
    "\n",
    "•\tNumpy\n",
    "\n",
    "•\tPandas\n",
    "\n",
    "•\tMatplotlib\n",
    "\n",
    "•\tSeaborn\n",
    "\n",
    "•\tPlotly\n",
    "\n",
    "•\tBokeh\n",
    "\n",
    "•\tPython 财经实践\n",
    "\n",
    "•   若干个项目实战案例"
   ]
  },
  {
   "cell_type": "markdown",
   "metadata": {},
   "source": [
    "# 一、Python基础"
   ]
  },
  {
   "cell_type": "markdown",
   "metadata": {},
   "source": [
    "## 1.1 VS code 使用"
   ]
  },
  {
   "cell_type": "markdown",
   "metadata": {},
   "source": [
    "### 1.1.1 基本配置\n",
    "插件：**Pylance**，**Jupyter**、**indent-rainbow**、**Bracket Pair Colorizer**、**Better Comments**\n",
    "\n",
    "缩放：**ctrl** + **(+** 或者 **-)** **可进行页面缩放，利于编辑"
   ]
  },
  {
   "cell_type": "markdown",
   "metadata": {},
   "source": [
    "### 1.1.2 使用Markdown及插入图片\n",
    "在VSCode扩展商店中安装如下的两个插件: **markdownlint**（语法提示）、**Markdown Preview Enhanced**（预览显示）<br>\n",
    "\n",
    "* 插入图片\n",
    "\\<img src=\"./assets/python插件.png\" style=\"zoom:45%\" />\n",
    "* 修改width：\n",
    "\\<img src=\"/home/aaon/文件/assets/1543803099995.png\" width=\"200px\" /> <br>\n",
    "* 或者修改height：\n",
    "\\<img src=\"/home/aaon/文件/assets/1543803099995.png\" style=\"height:200px\" /><br>\n",
    "* 也可以直接按比例縮放：\n",
    "\\<img src=\"/home/aaon/文件/assets/1543803099995.png\" style=\"zoom:70%\" />"
   ]
  },
  {
   "cell_type": "markdown",
   "metadata": {},
   "source": [
    "## 1.2 Python 数据类型"
   ]
  },
  {
   "cell_type": "markdown",
   "metadata": {},
   "source": [
    "### 1.2.1 字符串\n",
    "在Python中处理文本数据是使用 str 对象，也称为字符串对象。字符串是由Unicode码为构成的而不可变序列。"
   ]
  },
  {
   "cell_type": "markdown",
   "metadata": {},
   "source": [
    "#### 1.2.1.1 创建字符串"
   ]
  },
  {
   "cell_type": "code",
   "execution_count": null,
   "metadata": {},
   "outputs": [],
   "source": [
    "# 单引号\n",
    "s1 = 'string1'\n",
    "# 双重引号\n",
    "s2 = \"string2\"\n",
    "# 三引号\n",
    "s3 = \"\"\"三重引号的字符串，\n",
    "        可以跨越多行\"\"\"\n",
    "\n",
    "# print函数sep是用来间隔多个对象，默认是空格。可更改为换行符\"\\n\"\n",
    "print(s1, s2, s3, sep=\"\\n\")\n"
   ]
  },
  {
   "cell_type": "markdown",
   "metadata": {},
   "source": [
    "#### 1.2.1.2 访问字符串中的值\n",
    "字符串对象（string）支持切片的方式来访问字符串中的值。r打印字符串中的“/”。"
   ]
  },
  {
   "cell_type": "code",
   "execution_count": null,
   "metadata": {},
   "outputs": [],
   "source": [
    "print(s1[1])\n",
    "\n",
    "print(s3[10:])\n",
    "\n",
    "print(r'./folder/file.txt')\n"
   ]
  },
  {
   "cell_type": "markdown",
   "metadata": {},
   "source": [
    "#### 1.2.1.3 字符串格式化\n",
    "字符串格式化输出，包括format，%， f-string。"
   ]
  },
  {
   "cell_type": "code",
   "execution_count": null,
   "metadata": {},
   "outputs": [],
   "source": [
    "print(s1, s2)\n",
    "# format\n",
    "print('格式化输出两个变量，包括 {0} 和 {1}。'.format(s1, s2))\n",
    "# %\n",
    "print('格式化输出两个变量，包括 %s 和 %s。' % (s1, s2))\n",
    "# f-string\n",
    "print(f'格式化输出两个变量，包括 {s1} 和 {s2}。')\n"
   ]
  },
  {
   "cell_type": "markdown",
   "metadata": {},
   "source": [
    "#### 1.2.1.4 数字格式化\n",
    "在进行数字格式化时，经常会遇到需要经数字格式化为字符串，并且要按某种特定的格式来显示。<p>\n",
    "数字格式化常用格式列表：\n",
    "| 数字       | 格式     | 输出      | 描述                                                 |\n",
    "| --------- | -------- | --------- | ---------------------------------------------------- |\n",
    "| 3.1415926 | {:.2f}   | 3.14      | 保留小数点后两位                                     |\n",
    "| 3.1415926 | {:.0f}   | 3         | 不带小数                                             |\n",
    "| 1000000   | {:,}     | 1,000,000 | 千分位分隔的数字格式                                 |\n",
    "| 31415.926 | {:,.2f}  | 31,415.93 | 既有千分位分隔符又有精度设定的数字格式               |\n",
    "| 0.25      | {:.2%}   | 25.00%    | 百分比格式                                           |\n",
    "| 100000000 | {:.2e}   | 1.00e+08  | 指数记法                                             |\n",
    "| 3.14159   | {:+.2f}  | +3.14     | 带符号保留小数点后两位，正数前加正号，负数前加负号； |\n",
    "| -3.14159  | {:+.2f}  | -3.14     | 带符号保留小数点后两位，正数前加正号，负数前加负号； |\n",
    "| 3.14159   | {:-.2f}  | 3.14      | 带符号保留小数点后两位，正数前无符号，负数前加负号； |\n",
    "| -3.14159  | {:-.2f}  | -3.14     | 带符号保留小数点后两位，正数前无符号，负数前加负号； |\n",
    "| 3.14159   | {:  .2f} | 3.14      | 带符号保留小数点后两位，正数前加空格，负数前加负号； |\n",
    "| -3.14159  | {:  .2f} | -3.14     | 带符号保留小数点后两位，正数前加空格，负数前加负号； |\n",
    "| 21        | {:0>4}   | 0021      | 数字补零 (填充左边, 宽度为 4)                        |\n",
    "| 21        | {:x<5}   | 21xxx     | 数字补 x  (填充右边, 宽度为 5)                       |\n",
    "| 21        | {:>8}    | 21        | 右对齐 (默认, 宽度为 10)                             |\n",
    "| 21        | {:<8}    | 21        | 左对齐 (宽度为 10)                                   |\n",
    "| 21        | {:^8}    | 21        | 中间对齐 (宽度为 10)                                 |"
   ]
  },
  {
   "cell_type": "code",
   "execution_count": null,
   "metadata": {},
   "outputs": [],
   "source": [
    "n1 = 3.1415926\n",
    "n2 = 31415.926\n",
    "n3 = 0.31415\n",
    "n4 = 21\n",
    "\n",
    "# 1.保留两位小数，整数前加正好，负数前加负号。\n",
    "print(f\"保留两位小数：{n2:.2f}\")\n",
    "print(\"保留两位小数：{:.2f}\".format(n2))\n",
    "print(\"保留两位小数：%.2f\" % (n2))\n",
    "# 2.百分比和千分比格式\n",
    "print(f\"百分比格式：{n2:.2f}\")\n",
    "print(\"百分比格式：{:.2%}\".format(n2))\n",
    "print(\"既有千分位分隔符又有小数位数：{:,.2f}\".format(n2))\n",
    "# 3.对齐方式\n",
    "print('左对齐空八个字符{: >8}'.format(n4))\n",
    "print('左对齐空八个字符{: <8}'.format(n4))\n",
    "print('左对齐空八个字符{: ^8}'.format(n4))\n",
    "# 4.补正负符号\n",
    "# \"+\"\n",
    "print('正数前加正号，负数前加负号: {:+.2f}'.format(n1))\n",
    "print('正数前加正号，负数前加负号: {:+.2f}'.format(n2))\n",
    "\n",
    "# \"-\"\n",
    "print('正数前无符号，负数前加负号： {:-.2f}'.format(n1))\n",
    "print('正数前无符号，负数前加负号： {:-.2f}'.format(n2))\n",
    "# 空 格 \n",
    "print('正数前加空格，负数前加负号: {: .2f}'.format(n1))\n",
    "print('正数前加空格，负数前加负号: {: .2f}'.format(n2))\n",
    "# 5.补零或字符(0,1,2,其它字符都可以)\n",
    "print('左边补零： {:y>4}'.format(n4))\n",
    "print('右边补x ： {:x<5}'.format(n4))"
   ]
  },
  {
   "cell_type": "markdown",
   "metadata": {},
   "source": [
    "#### 1.2.1.5 字符串的基本运算"
   ]
  },
  {
   "cell_type": "code",
   "execution_count": null,
   "metadata": {},
   "outputs": [],
   "source": [
    "# 单引号\n",
    "s1 = 'string1'\n",
    "# 双重引号\n",
    "s2 = \"string2\"\n",
    "# 三引号\n",
    "s3 = \"\"\"三重引号的字符串，\n",
    "        可以跨越多行\"\"\"\n",
    "\n",
    "# 1.拼接字符串\n",
    "# 字符串加法\n",
    "print(s1 + \"\\t\" + s2)\n",
    "# 字符串乘法\n",
    "print(s1 * 10)\n",
    "\n",
    "# 2.字符串的大小写转换\n",
    "print('每个单词的首字母大写：', s1.title())\n",
    "print(\"段落首字母大写： \", s1.capitalize())\n",
    "print(\"所有字母大写： \", s1.upper())\n",
    "print(\"段落首字母小写： \", s1.lower())\n",
    "print(\"大小写转换： \", s1.swapcase())\n",
    "\n",
    "# 3.使用换行和制表符\n",
    "print('hello, \\n welcome to PyDataLab')\n",
    "print('\\thello, welcome to PyDataLab')"
   ]
  },
  {
   "cell_type": "code",
   "execution_count": null,
   "metadata": {},
   "outputs": [],
   "source": [
    "# 4.字符串分割\n",
    "\"\"\"\n",
    "split系列--返回一个列表，不包含分隔符\n",
    "split() 将一个字符串分隔成多个字符串组成的列表，不含分隔符;\n",
    "rsplit() 的功能与split() 类似，只不过是从字符串最后面开始分割；\n",
    "splitlines() 按照(\\n, \\r, \\r\\n 等) 分隔，分割成列表。\n",
    "\"\"\"\n",
    "\n",
    "s = 'hello, welcome to PyDataLab'\n",
    "s.split()\n",
    "s.split(\"e\")\n",
    "s.split(\"e\", 1)\n",
    "s.rsplit(\"e\", 2)\n",
    "print(\"1_2_3_4+4\\n+5\".splitlines())\n",
    "\n",
    "\"\"\"\n",
    "partition系列--返回一个元组，包含分隔符\n",
    "partition() 根据指定的分隔符(sep) 将字符串进行分割，从字符串左边开始索引分隔符sep, 索引到则停止索引，返回的是一个包含三个元素的元组(tuple)，即(head, sep, tail)。\n",
    "rpartition() 的功能与partition() 类似，只不过是从字符串最后面开始分割。\n",
    "\"\"\"\n",
    "print(s.partition('e')) # 遇到第一个分隔符后就停止索引\n",
    "print(s.rpartition('e')) # 遇到一个分隔符后就停止索引\n",
    "print(s.partition('f')) # 没有遇到分隔符，返回原字符串和两个空字符串\n",
    "print(s.rpartition('f')) # 没有遇到分隔符， 返回两个空字符串和原字符串"
   ]
  },
  {
   "cell_type": "code",
   "execution_count": null,
   "metadata": {},
   "outputs": [],
   "source": [
    "# 5.去除字符串两边空白\n",
    "s = ' hello, world '\n",
    "s.strip()\n",
    "s.rstrip()\n",
    "s.lstrip()"
   ]
  },
  {
   "cell_type": "code",
   "execution_count": null,
   "metadata": {},
   "outputs": [],
   "source": [
    "# 6.字符串编码\n",
    "s = \"Python 手册\"\n",
    "s3 = s.encode(encoding='utf-8')\n",
    "s3.decode(encoding='utf-8') # 解码"
   ]
  },
  {
   "cell_type": "code",
   "execution_count": null,
   "metadata": {},
   "outputs": [],
   "source": [
    "# 7.is相关用法\n",
    "s4 = 'Hi PyDataLab'\n",
    "s5 = '2021'\n",
    "s6 = \"Lemon2069\"\n",
    "\n",
    "print(s4.isdigit())\n",
    "print(s5.isdigit())\n",
    "print(s5.isdecimal())\n",
    "print(s5.isnumeric())"
   ]
  },
  {
   "cell_type": "code",
   "execution_count": null,
   "metadata": {},
   "outputs": [],
   "source": [
    "\"\"\"\n",
    "• isdigit() 表示字符串内全部为数字<p>\n",
    "• isalpha() 表示字符串内全部为字符<p>\n",
    "• isspace() 表示字符串由一个或多个空格组成<p>\n",
    "• isalnum() 表示字符串内全部为数字和字符<p>\n",
    "• isupper() 字符串全部由大写组成<p>\n",
    "• islower() 字符串全部由小写组成<p>\n",
    "• istitle() 字符串形式为驼峰命名，单词的第一个字母大写，eg:“Hello World”<p>\n",
    "\n",
    "还有一个is 判断方法，isinstance(obj,type),判断一个object 是什么类型。\n",
    "type 可选类型为：int，float，bool，complex，str，bytes，unicode，list，dict，set，tuple，并且type可以为一个元组（tuple）：isinstance(obj, (str, int))\n",
    "\"\"\"\n",
    "\n",
    "s1 = 'lemon'\n",
    "s2 = 'LEMON'\n",
    "s3 = 'PyDataLab'\n",
    "s4 = 'Hello Lemon'\n",
    "# s4 = 'PyDataLab'\n",
    "s5 = '2021'\n",
    "s6 = \"Lemon2069\"\n",
    "s7 = ' '\n",
    "s8 = 'Python 数据之道'\n",
    "s62 = \"Lemon 2069\"\n",
    "\n",
    "print(s1.islower())\n",
    "print(s2.isupper())\n",
    "print(s3.istitle())\n",
    "print(s4.istitle())\n",
    "print(s7.isspace())\n",
    "print(s4.isalpha())\n",
    "print(s8.isalpha())\n",
    "print(s6.isalnum())\n",
    "print(s62.isalnum())\n",
    "\n",
    "print(isinstance(s1, str))\n",
    "print(isinstance(s1, (str, int)))"
   ]
  },
  {
   "cell_type": "code",
   "execution_count": null,
   "metadata": {},
   "outputs": [],
   "source": [
    "# 其它的一些运算\n",
    "s = 'hello, world'\n",
    "# 统计相同字符的个数\n",
    "print(s.count('e'))\n",
    "# 计算字符串的长度\n",
    "print(len(s))\n",
    "# 字符替换\n",
    "print(s.replace('l','L'))\n",
    "# 字符替换, 只替换指定位置的字符\n",
    "# replace() 方法把字符串中的old （ 旧字符串） 替换成new( 新字符串) ， 如果指定第三个参数max ， 则替换不超过 max 次。\n",
    "print(s.replace('l','L',2))\n",
    "# 判断是否以某字符开头\n",
    "print(s.startswith('h'))\n",
    "print(s.startswith('H'))\n",
    "# 判断是否以某字符结尾\n",
    "print(s.endswith('d'))\n",
    "print(s.endswith('a'))\n",
    "# join\n",
    "# string.join(seq) , 以string 作为分隔符， 将seq 中所有的元素合并为一个新的字符串\n",
    "'/'.join(s1)\n",
    "# 返回字符串中最大和最小的的字符\n",
    "max(s1)\n",
    "min(s1)"
   ]
  },
  {
   "cell_type": "markdown",
   "metadata": {},
   "source": [
    "### 1.2.2 列表"
   ]
  },
  {
   "cell_type": "markdown",
   "metadata": {},
   "source": [
    "#### 1.2.2.1 List列表介绍\n",
    "list是Python内置的一种高级数据类型。list是一种有序的集合，在python中应用很广泛。\n"
   ]
  },
  {
   "cell_type": "code",
   "execution_count": null,
   "metadata": {},
   "outputs": [],
   "source": [
    "names = ['James', 'Michael', 'Emma', 'Emily']\n",
    "print(\"name的数据类型\", type(names))\n",
    "n = len(names)\n",
    "# 空的list\n",
    "empty_list = []\n",
    "print(empty_list)"
   ]
  },
  {
   "cell_type": "markdown",
   "metadata": {},
   "source": [
    "#### 1.2.2.2 访问列表中的值\n",
    "用索引来访问list中的每个元素，请注意索引从0开始，最后一个索引编号是n-1。"
   ]
  },
  {
   "cell_type": "code",
   "execution_count": null,
   "metadata": {},
   "outputs": [],
   "source": [
    "print(\n",
    "    names[0], \n",
    "    names[1],\n",
    "    names[-1],\n",
    "    names[-2])\n",
    "\n",
    "# 遍历\n",
    "for name in names:\n",
    "    print(name)\n",
    "\n",
    "# 方法二\n",
    "for i in range(len(names)):\n",
    "    print(names[i])"
   ]
  },
  {
   "cell_type": "markdown",
   "metadata": {},
   "source": [
    "#### 1.2.2.3 列表的操作、函数及方法"
   ]
  },
  {
   "cell_type": "markdown",
   "metadata": {},
   "source": [
    "#### 1.2.2.4 list中元素的增、改、删等操作"
   ]
  },
  {
   "cell_type": "code",
   "execution_count": null,
   "metadata": {},
   "outputs": [],
   "source": [
    "# list中元素的增、改、删等操作\n",
    "\n",
    "names = ['James', 'Michael', 'Emma', 'Emily']\n",
    "\n",
    "# 1.添加元素\n",
    "# list是一个可变的有序列表，可以通过添加、修改、删除等操作来操作list的元素。可以通过append()和insert()方法来list中添加元素。\n",
    "names.append('Jacob')\n",
    "names.insert(1, 'Ava')\n",
    "print(names)\n",
    "\n",
    "# 2.删除list中的元素\n",
    "# 用pop()方法删除list末尾的元素\n",
    "print(names.pop())\n",
    "\n",
    "# 3.删除指定位置的元素，用pop(i)方法\n",
    "print(names.pop(0))\n",
    "\n",
    "# 4.修改list中的元素\n",
    "names[2] = 'Lemon'\n",
    "print(names)"
   ]
  },
  {
   "cell_type": "markdown",
   "metadata": {},
   "source": [
    "#### 1.2.2.5 列表操作符\n",
    "列表可以进行相加 “+” 和相乘 “*” 运算，“+” 相当于拼接列表，相当于重复列表。此外，还可以判断元素是否存在于列表中。"
   ]
  },
  {
   "cell_type": "code",
   "execution_count": null,
   "metadata": {},
   "outputs": [],
   "source": [
    "# 列表相加\n",
    "print(\"列表相加：\", [1, 2, 3] + ['a', 'b'])\n",
    "# 列表相乘\n",
    "print(\"列表相乘：\", ['a', 'b'] * 3)\n",
    "# 列表元素是否存在于列表中\n",
    "print(\"判断元素是否存在于列表中：\", 'a' in ['a', 'b'])\n",
    "print(\"判断元素是否存在于列表中：\", 'a' not in ['a', 'b'])"
   ]
  },
  {
   "cell_type": "markdown",
   "metadata": {},
   "source": [
    "#### 1.2.2.6 列表函数 & 方法\n",
    "列表的函数包括：<p>\n",
    "len(list)，列表元素个数，即列表的长度<p>\n",
    "max(list)，返回列表元素最大值<p>\n",
    "min(list)，返回列表元素最小值<p>\n",
    "list(sep)，将元组转为列表<p>\n",
    "\n",
    "列表的方法：<p>\n",
    "列表的方法除了前面提到的增、改、删等方法外，还有其他一些方法，如下：<p>\n",
    "list.count(obj)，统计某个元素在列表中出现的次数<p>\n",
    "list.extend(seq)，在列表末尾一次性追加另一个序列中的多个值（用新列表扩展原来的列表）<p>\n",
    "list.index(obj)，从列表中找出某个值第一个匹配项的索引位置<p>\n",
    "list.remove(obj)，移除列表中某个值的第一个匹配项<p>\n",
    "list.sort()，对原列表进行排序<p>\n",
    "list.reverse()，对原列表进行反向排序"
   ]
  },
  {
   "cell_type": "code",
   "execution_count": null,
   "metadata": {},
   "outputs": [],
   "source": [
    "list1 = [1, 2, 3, 9, 6, 3]\n",
    "list2 = [3, 8, 5, 4, 7, 4]\n",
    "tuple = (3, 9, 6)\n",
    "\n",
    "# 列表的函数\n",
    "print(\"列表最大值：\", max(list1))\n",
    "print(\"列表最小值：\", min(list1))\n",
    "print(\"将元组转为列表：\", list(tuple))\n",
    "\n",
    "# 列表的方法\n",
    "print(\"1.count：\", list1.count(3))\n",
    "\n",
    "list1.extend(list2)\n",
    "print(\"2.extend：\", list1)\n",
    "\n",
    "print(\"3.list2：\", list2)\n",
    "print(\"3.index：\", list2.index(4))\n",
    "\n",
    "list2.remove(4)\n",
    "print(\"4.remove：\", list2)\n",
    "\n",
    "list2.sort()\n",
    "print(\"5.sort：\", list2)\n",
    "\n",
    "list2.reverse()\n",
    "print(\"6.reverse：\", list2)"
   ]
  },
  {
   "cell_type": "markdown",
   "metadata": {},
   "source": [
    "#### 1.2.2.7 list中元素的类型可以多样\n",
    "同一个list中的元素的类型可以是字符串（str）、整型（int）、布尔型（Boolean）、以及嵌套的list等，举例如下："
   ]
  },
  {
   "cell_type": "code",
   "execution_count": null,
   "metadata": {},
   "outputs": [],
   "source": [
    "\"\"\"\n",
    "在上述的a_list中，第3个元素（即alist[2]）其实本身也是一个list。list中的元素也可以是list，这样的话，可以进行多重list的嵌套。\n",
    "\"\"\"\n",
    "_list = ['Lemon', 100, ['a', 'b', 'c', 'd'], True]\n",
    "print(a_list, a_list[0], a_list[1], sep=\"\\n\")\n",
    "\n",
    "\"\"\"\n",
    "针对a_list， 如果想获取其中元素b_list里面的单个元素“b”，该如何实现呢？其实，这个类似二维数组，用二维的索引可以获取，如下：\n",
    "\"\"\"\n",
    "\n",
    "b_list = ['a', 'b', 'c', 'd']\n",
    "a_list = ['Lemon', 100, b_list, True]\n",
    "print(a_list)\n",
    "\n",
    "item_b = a_list[2][1]\n",
    "print(item_b)"
   ]
  },
  {
   "cell_type": "markdown",
   "metadata": {},
   "source": [
    "#### 1.2.2.7 list的切片（slices）\n",
    "可以这么理解，当步长为正数时，是从左到右以该步长来获取列表中的元素；而当步长为负数时，是从右到左以该步长的绝对值来获取列表中的元素。\n",
    "\n",
    "从运行结果可以知道，直接取离散的索引号是不行的，它提示list 的索引必须是整数或者slices。那么，我们有没有方法来获取这些离散的元素呢？方法肯定是有的，其中一种方法就是使用列表推导式。"
   ]
  },
  {
   "cell_type": "code",
   "execution_count": null,
   "metadata": {},
   "outputs": [],
   "source": [
    "c_list = ['James', 'Ava', 'Michael', 'Emma', 'Emily', 'Jacob']\n",
    "\n",
    "c_list[1:3]\n",
    "c_list[::2]\n",
    "c_list[1:3:2]\n",
    "c_list[::-1]\n",
    "c_list[::-1]\n",
    "\n",
    "# 获取离散的元素，不能通过连三的索引值来获取。可以通过列表推导式来完成。\n",
    "# c_list[0， 1， 3] 错误"
   ]
  },
  {
   "cell_type": "markdown",
   "metadata": {},
   "source": [
    "#### 1.2.2.8 列表推导式"
   ]
  },
  {
   "cell_type": "markdown",
   "metadata": {},
   "source": [
    "1.列表推导式的一般语法结构：<p>\n",
    "new_list = [x for x in iterable]<p>\n",
    "其中的iterable 表示可迭代的对象，包括字符串（str）、列表（list），元组（tuple）、字典（dict）、集合（set），\n",
    "以及生成器（generator）等。"
   ]
  },
  {
   "cell_type": "code",
   "execution_count": null,
   "metadata": {},
   "outputs": [],
   "source": [
    "str_list = [x.lower() for x in \"Lemon\"]\n",
    "print(str_list)\n",
    "\n",
    "list_list = [x**2 for x in [1, 2, 3, 4]]\n",
    "print(list_list)\n",
    "\n",
    "tuple_list = [x+2 for x in (1, 2, 3, 4)]\n",
    "print(tuple_list)\n",
    "\n",
    "ge_list = [x for x in range(8)]\n",
    "print(ge_list)"
   ]
  },
  {
   "cell_type": "markdown",
   "metadata": {},
   "source": [
    "2.两层for循环的列表推导式<p>\n",
    "列表推导式中，可以同时包含多个for循环，比如同时两个for循环，如下："
   ]
  },
  {
   "cell_type": "code",
   "execution_count": null,
   "metadata": {},
   "outputs": [],
   "source": [
    "[x ** 2 + y for x in range(5) for y in range(4, 7)]"
   ]
  },
  {
   "cell_type": "markdown",
   "metadata": {},
   "source": [
    "3.使用两个变量来生成list<p>\n",
    "列表推导式可以使用两个或多个变量来生成list，结合字典的使用，举例如下:"
   ]
  },
  {
   "cell_type": "code",
   "execution_count": null,
   "metadata": {},
   "outputs": [],
   "source": [
    "d = {'x': '1', 'y':'2', 'z':'4'}\n",
    "d_list = [k + '=' + v for k,v in d.items()]\n",
    "print(d_list)"
   ]
  },
  {
   "cell_type": "markdown",
   "metadata": {},
   "source": [
    "4.含if语句的推导式<p>\n",
    "列表推导式中还可以引入if条件语句，如下：\n"
   ]
  },
  {
   "cell_type": "code",
   "execution_count": null,
   "metadata": {},
   "outputs": [],
   "source": [
    "%%timeit\n",
    "if_list = [x**2 for x in range(10) if x%2==0]\n",
    "\n",
    "\n",
    "def for_loop():\n",
    "    if_list_1 = []\n",
    "    for x in range(10):\n",
    "        if x%2 == 0:\n",
    "            if_list_1.append(x**2)\n",
    "\n",
    "\n",
    "for_loop()"
   ]
  },
  {
   "cell_type": "code",
   "execution_count": null,
   "metadata": {},
   "outputs": [],
   "source": [
    "# 离散提取数据\n",
    "[c_list[i] for i in [0, 1, 3]]"
   ]
  },
  {
   "cell_type": "markdown",
   "metadata": {},
   "source": [
    "### 1.2.3 字典"
   ]
  },
  {
   "cell_type": "markdown",
   "metadata": {},
   "source": [
    "#### 1.2.3.1 基本用法\n",
    "字典的每个键值key=>value对用冒号：分割，形式如下：<p>\n",
    "d = {key1: value1, key2: value2}"
   ]
  },
  {
   "cell_type": "code",
   "execution_count": null,
   "metadata": {},
   "outputs": [],
   "source": [
    "# 创建字典\n",
    "dict1 = {}\n",
    "dict2 = {1: 'apple', 2: 'ball'}\n",
    "dict3 = {'n1': 'apple', 'n2': 'ball'}\n",
    "dict4 = {'n1': 'apple', 1:[2, 4, 5]}\n",
    "#用dict()函数创建字典\n",
    "dict5 = dict({1: 'apple', 2:\"ball\"})\n",
    "#以元组形式创建字典\n",
    "dict6 = dict([(1, 'apple'), (1, 'ball')])\n",
    "print(dict1, dict2, dict3, dict4, dict5, dict6, sep=\"\\n\")"
   ]
  },
  {
   "cell_type": "markdown",
   "metadata": {},
   "source": [
    "1.一般性取值"
   ]
  },
  {
   "cell_type": "code",
   "execution_count": null,
   "metadata": {},
   "outputs": [],
   "source": [
    "dict8 = dict([('name', 'John'), ('age', 25), (1, [2, 4, 3])])\n",
    "print(dict8[1])\n",
    "\n",
    "print(dict8.keys())\n",
    "print(dict8.values())"
   ]
  },
  {
   "cell_type": "markdown",
   "metadata": {},
   "source": [
    "2.通过value来获取key"
   ]
  },
  {
   "cell_type": "code",
   "execution_count": null,
   "metadata": {},
   "outputs": [],
   "source": [
    "def get_keys(d, value):\n",
    "    return [k for k,v in d.items() if v == value]\n",
    "\n",
    "get_keys(dict8, 25)"
   ]
  },
  {
   "cell_type": "markdown",
   "metadata": {},
   "source": [
    "3.在字典中修改或添加元素"
   ]
  },
  {
   "cell_type": "code",
   "execution_count": null,
   "metadata": {},
   "outputs": [],
   "source": [
    "dict8 = dict([('name', 'John'), ('age', 25), (1, [2, 4, 3])])\n",
    "# 修改已有key对应的value的值\n",
    "dict8['age'] = 98\n",
    "dict8['geneder'] = 'man'\n",
    "print(dict8)"
   ]
  },
  {
   "cell_type": "markdown",
   "metadata": {},
   "source": [
    "4.从字典中删除元素\n"
   ]
  },
  {
   "cell_type": "code",
   "execution_count": null,
   "metadata": {},
   "outputs": [],
   "source": [
    "dict8 = dict([('name', 'John'), ('age', 25), (1, [2, 4, 3])])\n",
    "# pop()方法\n",
    "dict8.pop('name')\n",
    "print(dict8)\n",
    "# del()方法,删除字典中指定key值对应的内容\n",
    "del dict8['age']\n",
    "print(dict8)\n",
    "del dict8 # 会删除整个字典\n",
    "# popitem()方法来删除,后进来的先删除（删除最后一项）\n",
    "dict8.popitem()\n",
    "print(dict8)\n",
    "\n",
    "dict8 = dict([('name', 'John'), ('age', 25), (1, [2, 4, 3])])\n",
    "# clear()方法\n",
    "dict8.clear()\n",
    "print(dict8)"
   ]
  },
  {
   "cell_type": "markdown",
   "metadata": {},
   "source": [
    "5.字典内置函数&方法"
   ]
  },
  {
   "cell_type": "markdown",
   "metadata": {},
   "source": [
    "* len()、str()和type()"
   ]
  },
  {
   "cell_type": "code",
   "execution_count": null,
   "metadata": {},
   "outputs": [],
   "source": [
    "dict8 = {'name': 'John', 'age': 25 , 1: [2, 4, 3], 'gender': 'man'}\n",
    "\n",
    "print(len(dict8))\n",
    "print(str(dict8))\n",
    "print(type(dict8))\n",
    "# 浅复制\n",
    "dict9 = dict8.copy()\n",
    "print(dict9)"
   ]
  },
  {
   "cell_type": "markdown",
   "metadata": {},
   "source": [
    "* fromkeys()和zip()<p>\n",
    "创建一个新字典，以序列seq中元素做字典的键，val为字典所有键对应的初始值"
   ]
  },
  {
   "cell_type": "code",
   "execution_count": null,
   "metadata": {},
   "outputs": [],
   "source": [
    "seq = ['name', 'age', 'city']\n",
    "value = ['Lemon', 18, 'cs']\n",
    "dict9 = dict.fromkeys(seq, value)\n",
    "print(dict9)\n",
    "dict9 = dict(zip(seq, value))\n",
    "print(dict9)"
   ]
  },
  {
   "cell_type": "markdown",
   "metadata": {},
   "source": [
    "* update()"
   ]
  },
  {
   "cell_type": "code",
   "execution_count": null,
   "metadata": {},
   "outputs": [],
   "source": [
    "my_dict6 = {'name': 'Lemon', 'age': 25 , 1: [2, 4, 3], 'gender': 'man'}\n",
    "my_dict8 = {'name': 'John', 'age': 25 , 1: [2, 4, 3], 'gender': 'man'}\n",
    "my_dict6.update(my_dict8) # 以更新的内容为准\n",
    "print(my_dict6)"
   ]
  },
  {
   "cell_type": "markdown",
   "metadata": {},
   "source": [
    "* setdefault()"
   ]
  },
  {
   "cell_type": "code",
   "execution_count": null,
   "metadata": {},
   "outputs": [],
   "source": [
    "dict8 = {'name': 'John', 'age': 25 , 1: [2, 4, 3], 'gender': 'man'}\n",
    "print(\"字典中存在的key，返回对应的value：\", dict8.setdefault('age', 0))\n",
    "print(\"字典中不存在的key，返回默认值：\", dict8.setdefault('position', 0))\n",
    "\n",
    "# 可以用setdefault() 方法统计一个列表里单词出现的次数\n",
    "strings = ('Lemon', 'kitten', 'Lemon', 'Lemon',\n",
    "            'lemon_zs', 'Lemon', 'Lemon', 'lemon_zs')\n",
    "\n",
    "counts = {}\n",
    "for kw in strings:\n",
    "    counts[kw] = counts.setdefault(kw, 0) + 1\n",
    "\n",
    "counts"
   ]
  },
  {
   "cell_type": "markdown",
   "metadata": {},
   "source": [
    "#### 1.2.3.2 字典推导式"
   ]
  },
  {
   "cell_type": "code",
   "execution_count": null,
   "metadata": {},
   "outputs": [],
   "source": [
    "dict1 = {x: x*2 for x in range(6)}\n",
    "print(dict1)\n",
    "\n",
    "keys = ['name', 'age', 'city']\n",
    "values = ['Lemon', 18, 'cs']\n",
    "\n",
    "dict2 = {k:v for (k, v) in zip(keys, values)}\n",
    "print(dict2)\n",
    "\n",
    "dict3 = {x: x*2 for x in range(10) if x%2 == 0}\n",
    "print(dict3)"
   ]
  },
  {
   "cell_type": "markdown",
   "metadata": {},
   "source": [
    "#### 1.2.3.3 字典合并"
   ]
  },
  {
   "cell_type": "code",
   "execution_count": null,
   "metadata": {},
   "outputs": [],
   "source": [
    "dict4 = dict2.update(dict1)\n",
    "print(dict4, dict2, sep=\"\\n\")\n",
    "\n",
    "dict4 ={**dict2, **dict1}\n",
    "print(dict4)\n",
    "\n",
    "def merge_dicts(*dict_args):\n",
    "    result = {}\n",
    "    for item in dict_args:\n",
    "        print(item)\n",
    "        result.update(item)\n",
    "    return result\n",
    "\n",
    "print(merge_dicts(dict1, dict2, dict3))"
   ]
  },
  {
   "cell_type": "markdown",
   "metadata": {},
   "source": [
    "#### 1.2.3.4 嵌套型字典"
   ]
  },
  {
   "cell_type": "code",
   "execution_count": null,
   "metadata": {},
   "outputs": [],
   "source": [
    "nested_dict01 = {1: {'name':'Lemon', 'age': '18', 'city':'cs'},\n",
    "                 2: {'name':'Lemon_zs', 'age': '18', 'city':'changsha'}}\n",
    "# 获取元素\n",
    "print(nested_dict01[1]['name'])\n",
    "# 修改\n",
    "nested_dict01[3] = {}\n",
    "print(nested_dict01)\n",
    "# 删除某个具体元素\n",
    "del nested_dict01[1]['name']\n",
    "print(nested_dict01)\n",
    "\n",
    "# 通过for循环获取嵌套字典内的元素\n",
    "nested_dict01 = {1: {'name':'Lemon', 'age': '18', 'city':'cs'},\n",
    "                 2: {'name':'Lemon_zs', 'age': '18', 'city':'changsha'}}\n",
    "\n",
    "for main_id, main_info in nested_dict01.items():\n",
    "    print('\\nmain_id:', id)\n",
    "\n",
    "    for key in main_info:\n",
    "        print(key + ':', main_info[key])"
   ]
  },
  {
   "cell_type": "code",
   "execution_count": null,
   "metadata": {},
   "outputs": [],
   "source": [
    "from sklearn.tree import DecisionTreeClassifier, export_graphviz\n",
    "from sklearn import tree\n",
    "from sklearn.datasets import load_wine\n",
    "from IPython.display import SVG\n",
    "from graphviz import Source\n",
    "from IPython.display import Image\n",
    "# load dataset\n",
    "data = load_wine()\n",
    "\n",
    "# feature matrix\n",
    "X = data.data\n",
    "\n",
    "# target vector\n",
    "y = data.target\n",
    "\n",
    "# class labels\n",
    "labels = data.feature_names\n",
    "\n",
    "\n",
    "# print dataset description\n",
    "# print(data.DESCR)\n",
    "estimator = DecisionTreeClassifier()\n",
    "estimator.fit(X, y)\n",
    "\n",
    "dtree_gv = Source(tree.export_graphviz(estimator,\n",
    "                                    out_file=None,\n",
    "                                    feature_names=labels,\n",
    "                                    class_names=['0', '1', '2'],\n",
    "                                    filled = True))\n",
    "dtree_gv.render(\"dtree.gv\") # gv文件可用graphviz软件打开，vscode安装 Graphviz Interactive Preview 插件"
   ]
  },
  {
   "cell_type": "markdown",
   "metadata": {},
   "source": [
    "### 1.2.4 Python内置时间模块\n",
    "• Datetime\n",
    "\n",
    "• Time\n",
    "\n",
    "• Calendar"
   ]
  },
  {
   "cell_type": "markdown",
   "metadata": {},
   "source": [
    "#### 1.2.4.1 Datetime"
   ]
  },
  {
   "cell_type": "markdown",
   "metadata": {},
   "source": [
    "1.构建时间对象实例"
   ]
  },
  {
   "cell_type": "code",
   "execution_count": null,
   "metadata": {},
   "outputs": [],
   "source": [
    "import datetime\n",
    "import time\n",
    "\n",
    "# 1.日期(data)实例的构造\n",
    "d1 = datetime.date.today()\n",
    "print(datetime.date(2020, 12, 1))\n",
    "print(datetime.date.today())\n",
    "# 年月日\n",
    "print(f'日期所属的年份是：{d1.year}')\n",
    "print(f'日期所属的月份是：{d1.month}')\n",
    "print(f'日期所属的日期是：{d1.day}')\n",
    "\n",
    "# 2.时间(time)实例的构造\n",
    "t1 = datetime.time(20, 10, 1)\n",
    "print(t)\n",
    "# 获取日期所属的年份， 月份， 和具体的日期号\n",
    "print(f'time 所属的小时为： {t1.hour}')\n",
    "print(f'time 所属的分钟为： {t1.minute}')\n",
    "print(f'time 所属的秒为： {t1.second}')\n",
    "\n",
    "# 3.datetime实例的构造\n",
    "dt1 = datetime.datetime(2020,10,12,20,10,1)\n",
    "print(dt1)\n",
    "# 现在时间\n",
    "print(datetime.datetime.now())\n",
    "print(datetime.datetime.today())\n",
    "print(datetime.datetime.combine(d1, t1))\n",
    "\n",
    "# 具体时间\n",
    "print(datetime.date(2020, 10, 12))\n",
    "print(datetime.time(20, 10, 1))\n",
    "print(dt1)\n",
    "print(dt1.weekday())\n",
    "print(dt1.isoweekday())\n",
    "dt=dt1.replace(year=2019)\n",
    "print(dt)\n",
    "\n",
    "# 4.timedelta对象的构造\n",
    "delta = datetime.timedelta(\n",
    "    weeks=4,\n",
    "    days=10,\n",
    "    hours=6,\n",
    "    minutes=50,\n",
    "    seconds=30,\n",
    "    microseconds=1000,\n",
    "    milliseconds=10000,\n",
    "    )\n",
    "print(delta)\n",
    "\n",
    "# 5.tzinfo介绍\n",
    "# 如果没有pytz 库， 则需要自行安装\n",
    "import pytz\n",
    "\n",
    "sh = pytz.timezone('Asia/Shanghai')\n",
    "d_tz = datetime.datetime(2020, 10, 12, hour=8,tzinfo=sh)\n",
    "\n",
    "d_tz.tzinfo"
   ]
  },
  {
   "cell_type": "markdown",
   "metadata": {},
   "source": [
    "2.时间转换"
   ]
  },
  {
   "cell_type": "code",
   "execution_count": null,
   "metadata": {},
   "outputs": [],
   "source": [
    "# 1.时间获取\n",
    "import time\n",
    "\n",
    "t1 = time.time()\n",
    "print(t1)\n",
    "\n",
    "# 2.时间元组\n",
    "t2 = time.localtime()\n",
    "print(t2)\n",
    "t3 = time.gmtime()\n",
    "print(t3)\n",
    "t4 = time.struct_time([2020, 10, 17, 2, 2, 34, 4, 89, 0])\n",
    "print(t4)\n",
    "\n",
    "# 3.时间转换\n",
    "# 转换为时间戳\n",
    "t5 = time.mktime(t2)\n",
    "print(t5)\n",
    "\n",
    "# 转换时间元组为字符串形式\n",
    "t5 = time.asctime(t2)\n",
    "t5\n",
    "# 定义字符串格式\n",
    "t5_1 = time.strftime('%Y-%m-%d',t2)\n",
    "t5_1\n",
    "# 时间戳转换为字符串\n",
    "t4 = time.mktime(t2)\n",
    "t6 = time.ctime(t4)\n",
    "print(t5)\n",
    "# 字符串转换为时间元组\n",
    "time.strptime('Thu Oct 15 10:30:18 2020')"
   ]
  },
  {
   "cell_type": "markdown",
   "metadata": {},
   "source": [
    "3.Calendar"
   ]
  },
  {
   "cell_type": "code",
   "execution_count": null,
   "metadata": {},
   "outputs": [],
   "source": [
    "import calendar\n",
    "# 获取某年的日历并打印出来\n",
    "# calendar.prcal(2020)\n",
    "# calendar.month(2020, 10)\n",
    "# calendar.prmonth(2020,10)\n",
    "# 其他方法\n",
    "# 返回表示一个月的日历的矩阵。每一行代表一周；此月份外的日子由零表示。每周从周一开始，除非使用setfirstweekday() 改变设置。\n",
    "print(calendar.monthcalendar(2020,10))\n",
    "# 返回某天是星期几，默认情况下0-6 代表周一到周日。\n",
    "print(calendar.weekday(2020,10,15))\n",
    "# 返回一个包含星期几的缩写名的头。n 指定星期几缩写的字符宽度\n",
    "print(calendar.weekheader(3))\n",
    "\n",
    "# 设置周的第一天为星期天\n",
    "calendar.setfirstweekday(calendar.SUNDAY)"
   ]
  },
  {
   "cell_type": "markdown",
   "metadata": {},
   "source": [
    "# 二、Numpy的基本用法"
   ]
  }
 ],
 "metadata": {
  "interpreter": {
   "hash": "8a746e53187f4c501bf8ff619f666eaf6cbd075777313aa2d30194d59d38fc8a"
  },
  "kernelspec": {
   "display_name": "Python 3.9.7 ('1.Python')",
   "language": "python",
   "name": "python3"
  },
  "language_info": {
   "codemirror_mode": {
    "name": "ipython",
    "version": 3
   },
   "file_extension": ".py",
   "mimetype": "text/x-python",
   "name": "python",
   "nbconvert_exporter": "python",
   "pygments_lexer": "ipython3",
   "version": "3.8.8"
  },
  "orig_nbformat": 4
 },
 "nbformat": 4,
 "nbformat_minor": 2
}

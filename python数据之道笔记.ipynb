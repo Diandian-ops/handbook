{
 "cells": [
  {
   "cell_type": "markdown",
   "metadata": {},
   "source": [
    "# 说明\n",
    "\n",
    " 该笔记仅记录对我个人有用的部分。我不是知识的创造者，只是知识的搬运工，请参考《Python知识手册》，该手册来自微信公众号【Python数据之道】。"
   ]
  },
  {
   "cell_type": "markdown",
   "metadata": {},
   "source": [
    "# Python数据之道阅读笔记\n",
    "\n",
    "Python知识手册主要包含一下几个方面的内容：\n",
    "\n",
    "•\tPython 基础知识\n",
    "\n",
    "•\tJupyter Notebook\n",
    "\n",
    "•\tNumpy\n",
    "\n",
    "•\tPandas\n",
    "\n",
    "•\tMatplotlib\n",
    "\n",
    "•\tSeaborn\n",
    "\n",
    "•\tPlotly\n",
    "\n",
    "•\tBokeh\n",
    "\n",
    "•\tPython 财经实践\n",
    "\n",
    "•   若干个项目实战案例"
   ]
  },
  {
   "cell_type": "markdown",
   "metadata": {},
   "source": [
    "# 一、Python基础"
   ]
  },
  {
   "cell_type": "markdown",
   "metadata": {},
   "source": [
    "## 1.1 VS code 使用"
   ]
  },
  {
   "cell_type": "markdown",
   "metadata": {},
   "source": [
    "### 1.1.1 基本配置\n",
    "插件：**Pylance**，**Jupyter**、**indent-rainbow**、**Bracket Pair Colorizer**、**Better Comments**\n",
    "\n",
    "缩放：**ctrl** + **(+** 或者 **-)** **可进行页面缩放，利于编辑"
   ]
  },
  {
   "cell_type": "markdown",
   "metadata": {},
   "source": [
    "### 1.1.2 使用Markdown及插入图片\n",
    "在VSCode扩展商店中安装如下的两个插件: **markdownlint**（语法提示）、**Markdown Preview Enhanced**（预览显示）<br>\n",
    "\n",
    "* 插入图片\n",
    "\\<img src=\"./assets/python插件.png\" style=\"zoom:45%\" />\n",
    "* 修改width：\n",
    "\\<img src=\"/home/aaon/文件/assets/1543803099995.png\" width=\"200px\" /> <br>\n",
    "* 或者修改height：\n",
    "\\<img src=\"/home/aaon/文件/assets/1543803099995.png\" style=\"height:200px\" /><br>\n",
    "* 也可以直接按比例縮放：\n",
    "\\<img src=\"/home/aaon/文件/assets/1543803099995.png\" style=\"zoom:70%\" />"
   ]
  },
  {
   "cell_type": "markdown",
   "metadata": {},
   "source": [
    "## 1.2 Python 数据类型"
   ]
  },
  {
   "cell_type": "markdown",
   "metadata": {},
   "source": [
    "### 1.2.1 字符串\n",
    "在Python中处理文本数据是使用 str 对象，也称为字符串对象。字符串是由Unicode码为构成的而不可变序列。"
   ]
  },
  {
   "cell_type": "markdown",
   "metadata": {},
   "source": [
    "#### 1.2.1.1 创建字符串"
   ]
  },
  {
   "cell_type": "code",
   "execution_count": null,
   "metadata": {},
   "outputs": [],
   "source": [
    "# 单引号\n",
    "s1 = 'string1'\n",
    "# 双重引号\n",
    "s2 = \"string2\"\n",
    "# 三引号\n",
    "s3 = \"\"\"三重引号的字符串，\n",
    "        可以跨越多行\"\"\"\n",
    "\n",
    "# print函数sep是用来间隔多个对象，默认是空格。可更改为换行符\"\\n\"\n",
    "print(s1, s2, s3, sep=\"\\n\")\n"
   ]
  },
  {
   "cell_type": "markdown",
   "metadata": {},
   "source": [
    "#### 1.2.1.2 访问字符串中的值\n",
    "字符串对象（string）支持切片的方式来访问字符串中的值。r打印字符串中的“/”。"
   ]
  },
  {
   "cell_type": "code",
   "execution_count": null,
   "metadata": {},
   "outputs": [],
   "source": [
    "print(s1[1])\n",
    "\n",
    "print(s3[10:])\n",
    "\n",
    "print(r'./folder/file.txt')\n"
   ]
  },
  {
   "cell_type": "markdown",
   "metadata": {},
   "source": [
    "#### 1.2.1.3 字符串格式化\n",
    "字符串格式化输出，包括format，%， f-string。"
   ]
  },
  {
   "cell_type": "code",
   "execution_count": null,
   "metadata": {},
   "outputs": [],
   "source": [
    "print(s1, s2)\n",
    "# format\n",
    "print('格式化输出两个变量，包括 {0} 和 {1}。'.format(s1, s2))\n",
    "# %\n",
    "print('格式化输出两个变量，包括 %s 和 %s。' % (s1, s2))\n",
    "# f-string\n",
    "print(f'格式化输出两个变量，包括 {s1} 和 {s2}。')\n"
   ]
  },
  {
   "cell_type": "markdown",
   "metadata": {},
   "source": [
    "#### 1.2.1.4 数字格式化\n",
    "在进行数字格式化时，经常会遇到需要经数字格式化为字符串，并且要按某种特定的格式来显示。<p>\n",
    "数字格式化常用格式列表：\n",
    "| 数字       | 格式     | 输出      | 描述                                                 |\n",
    "| --------- | -------- | --------- | ---------------------------------------------------- |\n",
    "| 3.1415926 | {:.2f}   | 3.14      | 保留小数点后两位                                     |\n",
    "| 3.1415926 | {:.0f}   | 3         | 不带小数                                             |\n",
    "| 1000000   | {:,}     | 1,000,000 | 千分位分隔的数字格式                                 |\n",
    "| 31415.926 | {:,.2f}  | 31,415.93 | 既有千分位分隔符又有精度设定的数字格式               |\n",
    "| 0.25      | {:.2%}   | 25.00%    | 百分比格式                                           |\n",
    "| 100000000 | {:.2e}   | 1.00e+08  | 指数记法                                             |\n",
    "| 3.14159   | {:+.2f}  | +3.14     | 带符号保留小数点后两位，正数前加正号，负数前加负号； |\n",
    "| -3.14159  | {:+.2f}  | -3.14     | 带符号保留小数点后两位，正数前加正号，负数前加负号； |\n",
    "| 3.14159   | {:-.2f}  | 3.14      | 带符号保留小数点后两位，正数前无符号，负数前加负号； |\n",
    "| -3.14159  | {:-.2f}  | -3.14     | 带符号保留小数点后两位，正数前无符号，负数前加负号； |\n",
    "| 3.14159   | {:  .2f} | 3.14      | 带符号保留小数点后两位，正数前加空格，负数前加负号； |\n",
    "| -3.14159  | {:  .2f} | -3.14     | 带符号保留小数点后两位，正数前加空格，负数前加负号； |\n",
    "| 21        | {:0>4}   | 0021      | 数字补零 (填充左边, 宽度为 4)                        |\n",
    "| 21        | {:x<5}   | 21xxx     | 数字补 x  (填充右边, 宽度为 5)                       |\n",
    "| 21        | {:>8}    | 21        | 右对齐 (默认, 宽度为 10)                             |\n",
    "| 21        | {:<8}    | 21        | 左对齐 (宽度为 10)                                   |\n",
    "| 21        | {:^8}    | 21        | 中间对齐 (宽度为 10)                                 |"
   ]
  },
  {
   "cell_type": "code",
   "execution_count": null,
   "metadata": {},
   "outputs": [],
   "source": [
    "n1 = 3.1415926\n",
    "n2 = 31415.926\n",
    "n3 = 0.31415\n",
    "n4 = 21\n",
    "\n",
    "# 1.保留两位小数，整数前加正好，负数前加负号。\n",
    "print(f\"保留两位小数：{n2:.2f}\")\n",
    "print(\"保留两位小数：{:.2f}\".format(n2))\n",
    "print(\"保留两位小数：%.2f\" % (n2))\n",
    "# 2.百分比和千分比格式\n",
    "print(f\"百分比格式：{n2:.2f}\")\n",
    "print(\"百分比格式：{:.2%}\".format(n2))\n",
    "print(\"既有千分位分隔符又有小数位数：{:,.2f}\".format(n2))\n",
    "# 3.对齐方式\n",
    "print('左对齐空八个字符{: >8}'.format(n4))\n",
    "print('左对齐空八个字符{: <8}'.format(n4))\n",
    "print('左对齐空八个字符{: ^8}'.format(n4))\n",
    "# 4.补正负符号\n",
    "# \"+\"\n",
    "print('正数前加正号，负数前加负号: {:+.2f}'.format(n1))\n",
    "print('正数前加正号，负数前加负号: {:+.2f}'.format(n2))\n",
    "\n",
    "# \"-\"\n",
    "print('正数前无符号，负数前加负号： {:-.2f}'.format(n1))\n",
    "print('正数前无符号，负数前加负号： {:-.2f}'.format(n2))\n",
    "# 空 格 \n",
    "print('正数前加空格，负数前加负号: {: .2f}'.format(n1))\n",
    "print('正数前加空格，负数前加负号: {: .2f}'.format(n2))\n",
    "# 5.补零或字符(0,1,2,其它字符都可以)\n",
    "print('左边补零： {:y>4}'.format(n4))\n",
    "print('右边补x ： {:x<5}'.format(n4))"
   ]
  },
  {
   "cell_type": "markdown",
   "metadata": {},
   "source": [
    "#### 1.2.1.5 字符串的基本运算"
   ]
  },
  {
   "cell_type": "code",
   "execution_count": null,
   "metadata": {},
   "outputs": [],
   "source": [
    "# 单引号\n",
    "s1 = 'string1'\n",
    "# 双重引号\n",
    "s2 = \"string2\"\n",
    "# 三引号\n",
    "s3 = \"\"\"三重引号的字符串，\n",
    "        可以跨越多行\"\"\"\n",
    "\n",
    "# 1.拼接字符串\n",
    "# 字符串加法\n",
    "print(s1 + \"\\t\" + s2)\n",
    "# 字符串乘法\n",
    "print(s1 * 10)\n",
    "\n",
    "# 2.字符串的大小写转换\n",
    "print('每个单词的首字母大写：', s1.title())\n",
    "print(\"段落首字母大写： \", s1.capitalize())\n",
    "print(\"所有字母大写： \", s1.upper())\n",
    "print(\"段落首字母小写： \", s1.lower())\n",
    "print(\"大小写转换： \", s1.swapcase())\n",
    "\n",
    "# 3.使用换行和制表符\n",
    "print('hello, \\n welcome to PyDataLab')\n",
    "print('\\thello, welcome to PyDataLab')"
   ]
  },
  {
   "cell_type": "code",
   "execution_count": null,
   "metadata": {},
   "outputs": [],
   "source": [
    "# 4.字符串分割\n",
    "\"\"\"\n",
    "split系列--返回一个列表，不包含分隔符\n",
    "split() 将一个字符串分隔成多个字符串组成的列表，不含分隔符;\n",
    "rsplit() 的功能与split() 类似，只不过是从字符串最后面开始分割；\n",
    "splitlines() 按照(\\n, \\r, \\r\\n 等) 分隔，分割成列表。\n",
    "\"\"\"\n",
    "\n",
    "s = 'hello, welcome to PyDataLab'\n",
    "s.split()\n",
    "s.split(\"e\")\n",
    "s.split(\"e\", 1)\n",
    "s.rsplit(\"e\", 2)\n",
    "print(\"1_2_3_4+4\\n+5\".splitlines())\n",
    "\n",
    "\"\"\"\n",
    "partition系列--返回一个元组，包含分隔符\n",
    "partition() 根据指定的分隔符(sep) 将字符串进行分割，从字符串左边开始索引分隔符sep, 索引到则停止索引，返回的是一个包含三个元素的元组(tuple)，即(head, sep, tail)。\n",
    "rpartition() 的功能与partition() 类似，只不过是从字符串最后面开始分割。\n",
    "\"\"\"\n",
    "print(s.partition('e')) # 遇到第一个分隔符后就停止索引\n",
    "print(s.rpartition('e')) # 遇到一个分隔符后就停止索引\n",
    "print(s.partition('f')) # 没有遇到分隔符，返回原字符串和两个空字符串\n",
    "print(s.rpartition('f')) # 没有遇到分隔符， 返回两个空字符串和原字符串"
   ]
  },
  {
   "cell_type": "code",
   "execution_count": null,
   "metadata": {},
   "outputs": [],
   "source": [
    "# 5.去除字符串两边空白\n",
    "s = ' hello, world '\n",
    "s.strip()\n",
    "s.rstrip()\n",
    "s.lstrip()"
   ]
  },
  {
   "cell_type": "code",
   "execution_count": null,
   "metadata": {},
   "outputs": [],
   "source": [
    "# 6.字符串编码\n",
    "s = \"Python 手册\"\n",
    "s3 = s.encode(encoding='utf-8')\n",
    "s3.decode(encoding='utf-8') # 解码"
   ]
  },
  {
   "cell_type": "code",
   "execution_count": null,
   "metadata": {},
   "outputs": [],
   "source": [
    "# 7.is相关用法\n",
    "s4 = 'Hi PyDataLab'\n",
    "s5 = '2021'\n",
    "s6 = \"Lemon2069\"\n",
    "\n",
    "print(s4.isdigit())\n",
    "print(s5.isdigit())\n",
    "print(s5.isdecimal())\n",
    "print(s5.isnumeric())"
   ]
  },
  {
   "cell_type": "code",
   "execution_count": null,
   "metadata": {},
   "outputs": [],
   "source": [
    "\"\"\"\n",
    "• isdigit() 表示字符串内全部为数字<p>\n",
    "• isalpha() 表示字符串内全部为字符<p>\n",
    "• isspace() 表示字符串由一个或多个空格组成<p>\n",
    "• isalnum() 表示字符串内全部为数字和字符<p>\n",
    "• isupper() 字符串全部由大写组成<p>\n",
    "• islower() 字符串全部由小写组成<p>\n",
    "• istitle() 字符串形式为驼峰命名，单词的第一个字母大写，eg:“Hello World”<p>\n",
    "\n",
    "还有一个is 判断方法，isinstance(obj,type),判断一个object 是什么类型。\n",
    "type 可选类型为：int，float，bool，complex，str，bytes，unicode，list，dict，set，tuple，并且type可以为一个元组（tuple）：isinstance(obj, (str, int))\n",
    "\"\"\"\n",
    "\n",
    "s1 = 'lemon'\n",
    "s2 = 'LEMON'\n",
    "s3 = 'PyDataLab'\n",
    "s4 = 'Hello Lemon'\n",
    "# s4 = 'PyDataLab'\n",
    "s5 = '2021'\n",
    "s6 = \"Lemon2069\"\n",
    "s7 = ' '\n",
    "s8 = 'Python 数据之道'\n",
    "s62 = \"Lemon 2069\"\n",
    "\n",
    "print(s1.islower())\n",
    "print(s2.isupper())\n",
    "print(s3.istitle())\n",
    "print(s4.istitle())\n",
    "print(s7.isspace())\n",
    "print(s4.isalpha())\n",
    "print(s8.isalpha())\n",
    "print(s6.isalnum())\n",
    "print(s62.isalnum())\n",
    "\n",
    "print(isinstance(s1, str))\n",
    "print(isinstance(s1, (str, int)))"
   ]
  },
  {
   "cell_type": "code",
   "execution_count": null,
   "metadata": {},
   "outputs": [],
   "source": [
    "# 其它的一些运算\n",
    "s = 'hello, world'\n",
    "# 统计相同字符的个数\n",
    "print(s.count('e'))\n",
    "# 计算字符串的长度\n",
    "print(len(s))\n",
    "# 字符替换\n",
    "print(s.replace('l','L'))\n",
    "# 字符替换, 只替换指定位置的字符\n",
    "# replace() 方法把字符串中的old （ 旧字符串） 替换成new( 新字符串) ， 如果指定第三个参数max ， 则替换不超过 max 次。\n",
    "print(s.replace('l','L',2))\n",
    "# 判断是否以某字符开头\n",
    "print(s.startswith('h'))\n",
    "print(s.startswith('H'))\n",
    "# 判断是否以某字符结尾\n",
    "print(s.endswith('d'))\n",
    "print(s.endswith('a'))\n",
    "# join\n",
    "# string.join(seq) , 以string 作为分隔符， 将seq 中所有的元素合并为一个新的字符串\n",
    "'/'.join(s1)\n",
    "# 返回字符串中最大和最小的的字符\n",
    "max(s1)\n",
    "min(s1)"
   ]
  },
  {
   "cell_type": "markdown",
   "metadata": {},
   "source": [
    "### 1.2.2 List列表介绍"
   ]
  }
 ],
 "metadata": {
  "interpreter": {
   "hash": "8a746e53187f4c501bf8ff619f666eaf6cbd075777313aa2d30194d59d38fc8a"
  },
  "kernelspec": {
   "display_name": "Python 3.9.7 ('1.Python')",
   "language": "python",
   "name": "python3"
  },
  "language_info": {
   "codemirror_mode": {
    "name": "ipython",
    "version": 3
   },
   "file_extension": ".py",
   "mimetype": "text/x-python",
   "name": "python",
   "nbconvert_exporter": "python",
   "pygments_lexer": "ipython3",
   "version": "3.8.8"
  },
  "orig_nbformat": 4
 },
 "nbformat": 4,
 "nbformat_minor": 2
}
